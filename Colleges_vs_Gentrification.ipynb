{
 "cells": [
  {
   "cell_type": "markdown",
   "metadata": {},
   "source": [
    "Definition of Gentrification: a process where wealthy people move into an area, raising rent and housing prices and pushing out the original residents displace low-income families or, more often, prevent low-income families from moving into previously affordable neighborhoods\n",
    "\n",
    "Why we chose this as our project:\n",
    "Boston is a “collegetown”, with 27 colleges & 50,000 students in the city of Boston\n",
    "Boston is a city with severe gentrification (Smith)\n",
    "ranked 3rd most in the nation\n",
    "21.3% of the city is gentrified from 2013-2017\n",
    "\n",
    "Hypothesis : Students may move to a neighborhood to attend a college in an adjacent neighborhood, thus raising the living standard of that area. The more college students, the higher prices.\n",
    "\n",
    "Our research question: Does the presence of colleges in a tract affect change in median gross rent of that tract?"
   ]
  },
  {
   "cell_type": "raw",
   "metadata": {},
   "source": [
    "Goal: \n",
    "-create a dataframe where each row represents a unique tract (CT-ID) and the columns describe that tract (percent change in median gross rent, total student population in tract, average net price of colleges in tract)\n",
    "-use this dataframe to create graphs, where each point represents a unique tract\n",
    "-total student population vs percent change in median gross rent\n",
    "-average net price vs percent change in median gross rent\n",
    "\n",
    "\n",
    "Plan: \n",
    "-Pull 5 year census data (2010-2014) as a dataframe where each row represents a unique tract and the columns descibe that tract in terms of CT-ID, Median Gross Rent and Total Population\n",
    "-Pull 5 year census data (2015-2019) as a dataframe where each row represents a unique tract and the columns descibe that tract in terms of CT-ID, Median Gross Rent and Total Population\n",
    "-Gather data on all the schools in Suffolk county through the NCES's CollegeNavigator tool, compile into excel\n",
    "-Read the excel file with college data where each row represents a college, and columns describe that college\n",
    "(CT-ID, Student Population, Net price) as a dataframe\n",
    "-Aggregate the college data, grouping by CT-ID, such that each row now represents a unique tract instead of a college and the columns describe that tract in terms of CT-ID, average net price and total student population of colleges in that tract\n",
    "-Merge all 3 dataframes by CT-ID, and create a new column for the percent difference in median gross rent between the 2010-2014 data and the 2015-2019 data. \n",
    "-use matplotlib for the graphs"
   ]
  },
  {
   "cell_type": "markdown",
   "metadata": {},
   "source": [
    "Tools: pandas, geopandas, censusdata API, excel, mathplotlib"
   ]
  },
  {
   "cell_type": "code",
   "execution_count": null,
   "metadata": {},
   "outputs": [],
   "source": [
    "!pip install censusdata"
   ]
  },
  {
   "cell_type": "code",
   "execution_count": 36,
   "metadata": {},
   "outputs": [],
   "source": [
    "import pandas as pd\n",
    "import warnings\n",
    "warnings.filterwarnings(\"ignore\") #to surpress DataFrame copy warnings\n",
    "import censusdata"
   ]
  },
  {
   "cell_type": "markdown",
   "metadata": {},
   "source": [
    "We first had to figure out how to pull census data for Massachusetts. The state number for MA is 25."
   ]
  },
  {
   "cell_type": "code",
   "execution_count": 37,
   "metadata": {},
   "outputs": [
    {
     "name": "stdout",
     "output_type": "stream",
     "text": [
      "Summary level: 040, state:25\n",
      "Summary level: 040, state:25\n"
     ]
    }
   ],
   "source": [
    "states2014 = censusdata.geographies(censusdata.censusgeo([('state', '*')]), 'acs5', 2014)\n",
    "print(states2014['Massachusetts'])\n",
    "states2019 = censusdata.geographies(censusdata.censusgeo([('state', '*')]), 'acs5', 2019)\n",
    "print(states2019['Massachusetts'])"
   ]
  },
  {
   "cell_type": "markdown",
   "metadata": {},
   "source": [
    "We also had to figure out how to pull census data for Boston specifically. The county number for Suffolk is 025. We determined that Boston is considered Suffolk County."
   ]
  },
  {
   "cell_type": "code",
   "execution_count": 38,
   "metadata": {
    "scrolled": true
   },
   "outputs": [
    {
     "name": "stdout",
     "output_type": "stream",
     "text": [
      "{'Barnstable County, Massachusetts': censusgeo((('state', '25'), ('county', '001'))), 'Berkshire County, Massachusetts': censusgeo((('state', '25'), ('county', '003'))), 'Plymouth County, Massachusetts': censusgeo((('state', '25'), ('county', '023'))), 'Norfolk County, Massachusetts': censusgeo((('state', '25'), ('county', '021'))), 'Nantucket County, Massachusetts': censusgeo((('state', '25'), ('county', '019'))), 'Suffolk County, Massachusetts': censusgeo((('state', '25'), ('county', '025'))), 'Dukes County, Massachusetts': censusgeo((('state', '25'), ('county', '007'))), 'Middlesex County, Massachusetts': censusgeo((('state', '25'), ('county', '017'))), 'Bristol County, Massachusetts': censusgeo((('state', '25'), ('county', '005'))), 'Hampden County, Massachusetts': censusgeo((('state', '25'), ('county', '013'))), 'Essex County, Massachusetts': censusgeo((('state', '25'), ('county', '009'))), 'Franklin County, Massachusetts': censusgeo((('state', '25'), ('county', '011'))), 'Worcester County, Massachusetts': censusgeo((('state', '25'), ('county', '027'))), 'Hampshire County, Massachusetts': censusgeo((('state', '25'), ('county', '015')))}\n",
      "{'Barnstable County, Massachusetts': censusgeo((('state', '25'), ('county', '001'))), 'Berkshire County, Massachusetts': censusgeo((('state', '25'), ('county', '003'))), 'Plymouth County, Massachusetts': censusgeo((('state', '25'), ('county', '023'))), 'Norfolk County, Massachusetts': censusgeo((('state', '25'), ('county', '021'))), 'Nantucket County, Massachusetts': censusgeo((('state', '25'), ('county', '019'))), 'Suffolk County, Massachusetts': censusgeo((('state', '25'), ('county', '025'))), 'Dukes County, Massachusetts': censusgeo((('state', '25'), ('county', '007'))), 'Middlesex County, Massachusetts': censusgeo((('state', '25'), ('county', '017'))), 'Bristol County, Massachusetts': censusgeo((('state', '25'), ('county', '005'))), 'Hampden County, Massachusetts': censusgeo((('state', '25'), ('county', '013'))), 'Essex County, Massachusetts': censusgeo((('state', '25'), ('county', '009'))), 'Franklin County, Massachusetts': censusgeo((('state', '25'), ('county', '011'))), 'Worcester County, Massachusetts': censusgeo((('state', '25'), ('county', '027'))), 'Hampshire County, Massachusetts': censusgeo((('state', '25'), ('county', '015')))}\n"
     ]
    }
   ],
   "source": [
    "counties2014 = censusdata.geographies(censusdata.censusgeo([('state', '25'), ('county', '*')]), 'acs5', 2014)\n",
    "print(counties2014)\n",
    "counties2019 = censusdata.geographies(censusdata.censusgeo([('state', '25'), ('county', '*')]), 'acs5', 2019)\n",
    "print(counties2019)"
   ]
  },
  {
   "cell_type": "markdown",
   "metadata": {},
   "source": [
    "We then needed to figure out the codes for the variables that corresponded to total population and median gross rent. We used google for this."
   ]
  },
  {
   "cell_type": "code",
   "execution_count": 39,
   "metadata": {},
   "outputs": [
    {
     "name": "stdout",
     "output_type": "stream",
     "text": [
      "Variable     | Table                          | Label                                                    | Type \n",
      "-------------------------------------------------------------------------------------------------------------------\n",
      "B01003_001E  | B01003.  Total Population      | Total                                                    | int  \n",
      "-------------------------------------------------------------------------------------------------------------------\n",
      "Variable     | Table                          | Label                                                    | Type \n",
      "-------------------------------------------------------------------------------------------------------------------\n",
      "B25064_001E  | B25064.  Median Gross Rent (Do | Median gross rent                                        | int  \n",
      "-------------------------------------------------------------------------------------------------------------------\n"
     ]
    }
   ],
   "source": [
    "censusdata.printtable(censusdata.censustable('acs5', 2014, 'B01003')) #total population\n",
    "censusdata.printtable(censusdata.censustable('acs5', 2014, 'B25064')) #median gross rent"
   ]
  },
  {
   "cell_type": "markdown",
   "metadata": {},
   "source": [
    "To avoid issues with running cells out of order and creating mutation issues, we made a function that sets all dateframes to a known state. We used our findings above (about state, county, and variable codes) to pull the information we wanted from the Census API, from the 5 year estimate 2010-2014 and the 5 year estimate 2015-2019. However, when we pulled the data, it was not in the form we wanted; it was a dataframe where each row represented a block instead of a tract. Since blocks are subgroups of tracts, there were multiple rows that represented the same tract. In addition, there was no column for CT-ID, but rather a long string that contained pieces of a CT-ID. So we needed to create another method to convert the raw data into usable data, where each row represented a unique tract instead of block, with the columns still describing total population and median gross rent, but for the tract instead of the block. "
   ]
  },
  {
   "cell_type": "code",
   "execution_count": 33,
   "metadata": {},
   "outputs": [],
   "source": [
    "boston_data_2014  = ''\n",
    "boston_data_2019 = ''\n",
    "\n",
    "#sets all dataframes to a known state\n",
    "def initData():\n",
    "    global boston_data_2014\n",
    "    global boston_data_2019\n",
    "    \n",
    "    boston_data_2014 = censusdata.download('acs5', 2014,\n",
    "           censusdata.censusgeo([('state', '25'),\n",
    "                                 ('county', '025'),\n",
    "                                 ('block group', '*')]),\n",
    "          ['B01003_001E', 'B25064_001E'])\n",
    "\n",
    "\n",
    "    boston_data_2014 = convert_raw_census(boston_data_2014)\n",
    "    \n",
    "    boston_data_2019 = censusdata.download('acs5', 2019,\n",
    "           censusdata.censusgeo([('state', '25'),\n",
    "                                 ('county', '025'),\n",
    "                                 ('block group', '*')]),\n",
    "          ['B01003_001E', 'B25064_001E'])\n",
    "\n",
    "    boston_data_2019 = convert_raw_census(boston_data_2019)\n",
    "    \n",
    "\n"
   ]
  },
  {
   "cell_type": "markdown",
   "metadata": {},
   "source": [
    "Our first step of converting raw data was renaming the column names from the raw data, which were previously just numebrs and letters. The next order of business was dealing with missing data. We made the decision that if a given row did not have a population (nan) we gave it a value of 0. We did the same for rows without median gross rent. In addition, we encountered an error where certain rows contained median gross rent values that were negative. So we set those to 0 as well. Next, we created the CT-ID column by using string manipulation on the corresponding row in the raw tract column. Finally, we aggregated block data into tract data. Given that multiple blocks could correspond to the same CT-ID, we used group by on CT-ID, summing the populations and taking a weighted sum of the median gross rents for the blocks in the given CT-ID group. This gave us two dataframes: one with CT-ID and total population, the other with CT-ID and median gross rent. In both, each row represented a unique tract, not a block. We then merged these two by CT-ID, thus completing our conversion from raw census data to the form we wanted."
   ]
  },
  {
   "cell_type": "code",
   "execution_count": 40,
   "metadata": {},
   "outputs": [],
   "source": [
    "#for the given df, grouped by CT-ID, sums the population\n",
    "def total_pop(df):\n",
    "    return df['TotalPop'].sum()\n",
    "\n",
    "#for the given df, grouped by CT-ID, finds the weighted sum of median gross rent \n",
    "def weighted_gross_rent(df):\n",
    "    df.reset_index(inplace=True)\n",
    "    #the total population in the blocks in this CT-ID group\n",
    "    normal = total_pop(df)\n",
    "    sum = 0\n",
    "    for i in range(df.shape[0]):\n",
    "        #the population of one block\n",
    "        pop = df['TotalPop'][i]\n",
    "        #the proportion of this block \n",
    "        weight = pop / normal\n",
    "        #the median gross rent of this block\n",
    "        rent = df['Median_Gross_Rent'][i]\n",
    "        #weighted \n",
    "        sum += rent * weight\n",
    "    return sum\n",
    "\n",
    "\n",
    "#given a df of raw boston census data from a given year,\n",
    "#returns a new dataframe with updated column names and a new CT-ID column\n",
    "def convert_raw_census(df):\n",
    "    df.reset_index(inplace=True)\n",
    "    df.rename(columns={\"B01003_001E\": \"TotalPop\",\n",
    "                           \"B25064_001E\": \"Median_Gross_Rent\", \"index\": \"raw_tract\"}, inplace=True)\n",
    "    \n",
    "    #a design decisions\n",
    "    df[\"TotalPop\"] = df[\"TotalPop\"].fillna(0)\n",
    "    df[\"Median_Gross_Rent\"] = df[\"Median_Gross_Rent\"].fillna(0)\n",
    "    \n",
    "    \n",
    "    \n",
    "    #make a new column for CT_ID_10, initialized as a copy \n",
    "    df['CT-ID-10'] = df['raw_tract']\n",
    "    \n",
    "    for i in range(df.shape[0]):\n",
    "        \n",
    "        #dealing with negative rents\n",
    "        #by setting them to 0\n",
    "        if df['Median_Gross_Rent'][i] < 0:\n",
    "            df['Median_Gross_Rent'][i] = 0\n",
    "            \n",
    "        #the current CT-ID    \n",
    "        curr = df['CT-ID-10'][i]\n",
    "        curr = str(curr)\n",
    "        \n",
    "        #where the tract ID is located\n",
    "        start = curr.index('tract') + 6\n",
    "        end = start + 6\n",
    "        \n",
    "        #substring\n",
    "        tract_ID  = curr[start: end]\n",
    " \n",
    "        #all have the same state and county ID with prefix 25025\n",
    "        CT_ID = \"25025\" + str(tract_ID)\n",
    "        CT_ID = int(CT_ID)\n",
    "        \n",
    "        #replace the entries of CT_ID_10 with the actual value\n",
    "        df['CT-ID-10'][i] = CT_ID\n",
    "    \n",
    "    total_pop_table = df.groupby('CT-ID-10').apply(total_pop)\n",
    "    max_rent_table = df.groupby('CT-ID-10').apply(weighted_gross_rent)\n",
    "    total_pop_df = total_pop_table.rename_axis('CT-ID-10').reset_index(name='TotalPop')\n",
    "    max_rent_df = avg_rent_table = max_rent_table.rename_axis('CT-ID-10').reset_index(name='Median_Gross_Rent')\n",
    "    result = total_pop_df.merge(max_rent_df, how = 'left', on = 'CT-ID-10')\n",
    "    return result\n",
    "    "
   ]
  },
  {
   "cell_type": "markdown",
   "metadata": {},
   "source": [
    "We tested our raw data conversion on the 2010-2014 pull, and it was a success."
   ]
  },
  {
   "cell_type": "code",
   "execution_count": 41,
   "metadata": {},
   "outputs": [
    {
     "name": "stdout",
     "output_type": "stream",
     "text": [
      "Total population of Suffolk County 2014: 747928\n",
      "Total tracts: 204\n"
     ]
    },
    {
     "data": {
      "text/html": [
       "<div>\n",
       "<style scoped>\n",
       "    .dataframe tbody tr th:only-of-type {\n",
       "        vertical-align: middle;\n",
       "    }\n",
       "\n",
       "    .dataframe tbody tr th {\n",
       "        vertical-align: top;\n",
       "    }\n",
       "\n",
       "    .dataframe thead th {\n",
       "        text-align: right;\n",
       "    }\n",
       "</style>\n",
       "<table border=\"1\" class=\"dataframe\">\n",
       "  <thead>\n",
       "    <tr style=\"text-align: right;\">\n",
       "      <th></th>\n",
       "      <th>CT-ID-10</th>\n",
       "      <th>TotalPop</th>\n",
       "      <th>Median_Gross_Rent</th>\n",
       "    </tr>\n",
       "  </thead>\n",
       "  <tbody>\n",
       "    <tr>\n",
       "      <th>0</th>\n",
       "      <td>25025000100</td>\n",
       "      <td>3264</td>\n",
       "      <td>1514.267770</td>\n",
       "    </tr>\n",
       "    <tr>\n",
       "      <th>1</th>\n",
       "      <td>25025000201</td>\n",
       "      <td>3073</td>\n",
       "      <td>1691.745200</td>\n",
       "    </tr>\n",
       "    <tr>\n",
       "      <th>2</th>\n",
       "      <td>25025000202</td>\n",
       "      <td>3482</td>\n",
       "      <td>1426.505744</td>\n",
       "    </tr>\n",
       "    <tr>\n",
       "      <th>3</th>\n",
       "      <td>25025000301</td>\n",
       "      <td>2437</td>\n",
       "      <td>1682.533032</td>\n",
       "    </tr>\n",
       "    <tr>\n",
       "      <th>4</th>\n",
       "      <td>25025000302</td>\n",
       "      <td>2673</td>\n",
       "      <td>1741.272727</td>\n",
       "    </tr>\n",
       "  </tbody>\n",
       "</table>\n",
       "</div>"
      ],
      "text/plain": [
       "      CT-ID-10  TotalPop  Median_Gross_Rent\n",
       "0  25025000100      3264        1514.267770\n",
       "1  25025000201      3073        1691.745200\n",
       "2  25025000202      3482        1426.505744\n",
       "3  25025000301      2437        1682.533032\n",
       "4  25025000302      2673        1741.272727"
      ]
     },
     "execution_count": 41,
     "metadata": {},
     "output_type": "execute_result"
    }
   ],
   "source": [
    "initData()\n",
    "print(\"Total population of Suffolk County 2014: \" + str(boston_data_2014.TotalPop.sum()))\n",
    "print(\"Total tracts: \" + str(boston_data_2014.shape[0]))\n",
    "boston_data_2014.head()"
   ]
  },
  {
   "cell_type": "markdown",
   "metadata": {},
   "source": [
    "We then tested our raw data conversion on the 2014-2019 pull, and it was also a success."
   ]
  },
  {
   "cell_type": "code",
   "execution_count": 42,
   "metadata": {},
   "outputs": [
    {
     "name": "stdout",
     "output_type": "stream",
     "text": [
      "Total population of Suffolk County 2019: 796605\n",
      "Total tracts: 204\n"
     ]
    },
    {
     "data": {
      "text/html": [
       "<div>\n",
       "<style scoped>\n",
       "    .dataframe tbody tr th:only-of-type {\n",
       "        vertical-align: middle;\n",
       "    }\n",
       "\n",
       "    .dataframe tbody tr th {\n",
       "        vertical-align: top;\n",
       "    }\n",
       "\n",
       "    .dataframe thead th {\n",
       "        text-align: right;\n",
       "    }\n",
       "</style>\n",
       "<table border=\"1\" class=\"dataframe\">\n",
       "  <thead>\n",
       "    <tr style=\"text-align: right;\">\n",
       "      <th></th>\n",
       "      <th>CT-ID-10</th>\n",
       "      <th>TotalPop</th>\n",
       "      <th>Median_Gross_Rent</th>\n",
       "    </tr>\n",
       "  </thead>\n",
       "  <tbody>\n",
       "    <tr>\n",
       "      <th>0</th>\n",
       "      <td>25025000100</td>\n",
       "      <td>5884</td>\n",
       "      <td>1786.764616</td>\n",
       "    </tr>\n",
       "    <tr>\n",
       "      <th>1</th>\n",
       "      <td>25025000201</td>\n",
       "      <td>4125</td>\n",
       "      <td>2297.036364</td>\n",
       "    </tr>\n",
       "    <tr>\n",
       "      <th>2</th>\n",
       "      <td>25025000202</td>\n",
       "      <td>4461</td>\n",
       "      <td>1653.422551</td>\n",
       "    </tr>\n",
       "    <tr>\n",
       "      <th>3</th>\n",
       "      <td>25025000301</td>\n",
       "      <td>3074</td>\n",
       "      <td>2348.629473</td>\n",
       "    </tr>\n",
       "    <tr>\n",
       "      <th>4</th>\n",
       "      <td>25025000302</td>\n",
       "      <td>3447</td>\n",
       "      <td>2254.574993</td>\n",
       "    </tr>\n",
       "  </tbody>\n",
       "</table>\n",
       "</div>"
      ],
      "text/plain": [
       "      CT-ID-10  TotalPop  Median_Gross_Rent\n",
       "0  25025000100      5884        1786.764616\n",
       "1  25025000201      4125        2297.036364\n",
       "2  25025000202      4461        1653.422551\n",
       "3  25025000301      3074        2348.629473\n",
       "4  25025000302      3447        2254.574993"
      ]
     },
     "execution_count": 42,
     "metadata": {},
     "output_type": "execute_result"
    }
   ],
   "source": [
    "initData()\n",
    "print(\"Total population of Suffolk County 2019: \" + str(boston_data_2019.TotalPop.sum()))\n",
    "print(\"Total tracts: \" + str(boston_data_2019.shape[0]))\n",
    "boston_data_2019.head()"
   ]
  },
  {
   "cell_type": "markdown",
   "metadata": {},
   "source": [
    "The next thing we did was generate our college data, by reading the excel file we made as a dataframe. We made the decision to drop all rows that has Na for net price. (To clarify, net price is the cost of attending the school factoring in finanical aid/scholarships). We also used string manipulation to convert all values in the net price column to integers. "
   ]
  },
  {
   "cell_type": "code",
   "execution_count": 43,
   "metadata": {},
   "outputs": [
    {
     "data": {
      "text/html": [
       "<div>\n",
       "<style scoped>\n",
       "    .dataframe tbody tr th:only-of-type {\n",
       "        vertical-align: middle;\n",
       "    }\n",
       "\n",
       "    .dataframe tbody tr th {\n",
       "        vertical-align: top;\n",
       "    }\n",
       "\n",
       "    .dataframe thead th {\n",
       "        text-align: right;\n",
       "    }\n",
       "</style>\n",
       "<table border=\"1\" class=\"dataframe\">\n",
       "  <thead>\n",
       "    <tr style=\"text-align: right;\">\n",
       "      <th></th>\n",
       "      <th>index</th>\n",
       "      <th>Name</th>\n",
       "      <th>Address</th>\n",
       "      <th>Website</th>\n",
       "      <th>Type</th>\n",
       "      <th>Awards offered</th>\n",
       "      <th>Campus setting</th>\n",
       "      <th>Campus housing</th>\n",
       "      <th>Student population</th>\n",
       "      <th>Undergraduate students</th>\n",
       "      <th>Graduation Rate</th>\n",
       "      <th>Transfer-Out Rate</th>\n",
       "      <th>Cohort Year *</th>\n",
       "      <th>Net Price **</th>\n",
       "      <th>Largest Program</th>\n",
       "      <th>IPEDS ID</th>\n",
       "      <th>OPE ID</th>\n",
       "      <th>CT-ID-10</th>\n",
       "    </tr>\n",
       "  </thead>\n",
       "  <tbody>\n",
       "    <tr>\n",
       "      <th>0</th>\n",
       "      <td>0</td>\n",
       "      <td>North Bennet Street School</td>\n",
       "      <td>150 North Street, Boston, Massachusetts 02109</td>\n",
       "      <td>www.nbss.edu/</td>\n",
       "      <td>2-year, Private not-for-profit</td>\n",
       "      <td>One but less than two years certificate;Two bu...</td>\n",
       "      <td>City: Large</td>\n",
       "      <td>No</td>\n",
       "      <td>157</td>\n",
       "      <td>157.0</td>\n",
       "      <td>72%</td>\n",
       "      <td>NaN</td>\n",
       "      <td>Fall 2016</td>\n",
       "      <td>32019</td>\n",
       "      <td>Furniture Design and Manufacturing</td>\n",
       "      <td>167297</td>\n",
       "      <td>2197900</td>\n",
       "      <td>25025030400</td>\n",
       "    </tr>\n",
       "    <tr>\n",
       "      <th>1</th>\n",
       "      <td>1</td>\n",
       "      <td>Suffolk University</td>\n",
       "      <td>73 Tremont St., Boston, Massachusetts 02108-3901</td>\n",
       "      <td>https://www.suffolk.edu/</td>\n",
       "      <td>4-year, Private not-for-profit</td>\n",
       "      <td>One but less than two years certificate;Associ...</td>\n",
       "      <td>City: Large</td>\n",
       "      <td>Yes</td>\n",
       "      <td>7169</td>\n",
       "      <td>4862.0</td>\n",
       "      <td>58%</td>\n",
       "      <td>29%</td>\n",
       "      <td>Fall 2013</td>\n",
       "      <td>33105</td>\n",
       "      <td>-</td>\n",
       "      <td>168005</td>\n",
       "      <td>221800</td>\n",
       "      <td>25025070101</td>\n",
       "    </tr>\n",
       "    <tr>\n",
       "      <th>2</th>\n",
       "      <td>2</td>\n",
       "      <td>Empire Beauty School-Boston</td>\n",
       "      <td>30 West Street, Boston, Massachusetts 02111</td>\n",
       "      <td>www.empire.edu/</td>\n",
       "      <td>&lt; 2-year, Private for-profit</td>\n",
       "      <td>One but less than two years certificate</td>\n",
       "      <td>City: Large</td>\n",
       "      <td>No</td>\n",
       "      <td>139</td>\n",
       "      <td>139.0</td>\n",
       "      <td>58%</td>\n",
       "      <td>NaN</td>\n",
       "      <td>2016-17</td>\n",
       "      <td>17053</td>\n",
       "      <td>Cosmetology/Cosmetologist, General</td>\n",
       "      <td>164845</td>\n",
       "      <td>817807</td>\n",
       "      <td>25025010701</td>\n",
       "    </tr>\n",
       "    <tr>\n",
       "      <th>3</th>\n",
       "      <td>3</td>\n",
       "      <td>Boston Architectural College</td>\n",
       "      <td>320 Newbury Street, Boston, Massachusetts 0211...</td>\n",
       "      <td>www.the-bac.edu/</td>\n",
       "      <td>4-year, Private not-for-profit</td>\n",
       "      <td>Less than one year certificate;Bachelor's degr...</td>\n",
       "      <td>City: Large</td>\n",
       "      <td>Yes</td>\n",
       "      <td>737</td>\n",
       "      <td>364.0</td>\n",
       "      <td>13%</td>\n",
       "      <td>33%</td>\n",
       "      <td>Fall 2013</td>\n",
       "      <td>26640</td>\n",
       "      <td>-</td>\n",
       "      <td>164872</td>\n",
       "      <td>396600</td>\n",
       "      <td>25025010701</td>\n",
       "    </tr>\n",
       "    <tr>\n",
       "      <th>4</th>\n",
       "      <td>4</td>\n",
       "      <td>Emmanuel College</td>\n",
       "      <td>400 The Fenway, Boston, Massachusetts 02115</td>\n",
       "      <td>www.emmanuel.edu/</td>\n",
       "      <td>4-year, Private not-for-profit</td>\n",
       "      <td>Bachelor's degree;Postbaccalaureate certificat...</td>\n",
       "      <td>City: Large</td>\n",
       "      <td>Yes</td>\n",
       "      <td>2222</td>\n",
       "      <td>2112.0</td>\n",
       "      <td>66%</td>\n",
       "      <td>NaN</td>\n",
       "      <td>Fall 2013</td>\n",
       "      <td>29946</td>\n",
       "      <td>-</td>\n",
       "      <td>165671</td>\n",
       "      <td>214700</td>\n",
       "      <td>25025010300</td>\n",
       "    </tr>\n",
       "  </tbody>\n",
       "</table>\n",
       "</div>"
      ],
      "text/plain": [
       "   index                          Name  \\\n",
       "0      0    North Bennet Street School   \n",
       "1      1            Suffolk University   \n",
       "2      2   Empire Beauty School-Boston   \n",
       "3      3  Boston Architectural College   \n",
       "4      4              Emmanuel College   \n",
       "\n",
       "                                             Address  \\\n",
       "0      150 North Street, Boston, Massachusetts 02109   \n",
       "1   73 Tremont St., Boston, Massachusetts 02108-3901   \n",
       "2        30 West Street, Boston, Massachusetts 02111   \n",
       "3  320 Newbury Street, Boston, Massachusetts 0211...   \n",
       "4        400 The Fenway, Boston, Massachusetts 02115   \n",
       "\n",
       "                    Website                            Type  \\\n",
       "0             www.nbss.edu/  2-year, Private not-for-profit   \n",
       "1  https://www.suffolk.edu/  4-year, Private not-for-profit   \n",
       "2           www.empire.edu/    < 2-year, Private for-profit   \n",
       "3          www.the-bac.edu/  4-year, Private not-for-profit   \n",
       "4         www.emmanuel.edu/  4-year, Private not-for-profit   \n",
       "\n",
       "                                      Awards offered Campus setting  \\\n",
       "0  One but less than two years certificate;Two bu...    City: Large   \n",
       "1  One but less than two years certificate;Associ...    City: Large   \n",
       "2            One but less than two years certificate    City: Large   \n",
       "3  Less than one year certificate;Bachelor's degr...    City: Large   \n",
       "4  Bachelor's degree;Postbaccalaureate certificat...    City: Large   \n",
       "\n",
       "  Campus housing  Student population  Undergraduate students Graduation Rate  \\\n",
       "0             No                 157                   157.0             72%   \n",
       "1            Yes                7169                  4862.0             58%   \n",
       "2             No                 139                   139.0             58%   \n",
       "3            Yes                 737                   364.0             13%   \n",
       "4            Yes                2222                  2112.0             66%   \n",
       "\n",
       "  Transfer-Out Rate Cohort Year * Net Price **  \\\n",
       "0               NaN     Fall 2016        32019   \n",
       "1               29%     Fall 2013        33105   \n",
       "2               NaN       2016-17        17053   \n",
       "3               33%     Fall 2013        26640   \n",
       "4               NaN     Fall 2013        29946   \n",
       "\n",
       "                      Largest Program  IPEDS ID   OPE ID     CT-ID-10  \n",
       "0  Furniture Design and Manufacturing    167297  2197900  25025030400  \n",
       "1                                   -    168005   221800  25025070101  \n",
       "2  Cosmetology/Cosmetologist, General    164845   817807  25025010701  \n",
       "3                                   -    164872   396600  25025010701  \n",
       "4                                   -    165671   214700  25025010300  "
      ]
     },
     "execution_count": 43,
     "metadata": {},
     "output_type": "execute_result"
    }
   ],
   "source": [
    "college_data = pd.read_excel(\"collegesInBoston.xlsx\")\n",
    "\n",
    "#we cannot analyze a college if it has missing data \n",
    "college_data = college_data.dropna(subset = ['Net Price **'])\n",
    "\n",
    "college_data.reset_index(inplace=True)\n",
    "\n",
    "#converting the prices from string format to integer format\n",
    "for row in range(len(college_data)):\n",
    "    price_as_string = str(college_data['Net Price **'][row])\n",
    "    if \",\" in price_as_string:\n",
    "        comma_index = price_as_string.index(\",\")\n",
    "        clean = price_as_string[1: comma_index] + price_as_string[comma_index+1:]\n",
    "    else:\n",
    "        clean = price_as_string[1:]\n",
    "    college_data['Net Price **'][row] = int(clean)\n",
    "\n",
    "college_data.head()"
   ]
  },
  {
   "cell_type": "markdown",
   "metadata": {},
   "source": [
    "However, similar to the block issue from the raw census data, each row in our college dataframe did not represent a unique tract, but rather an individual college. Therefore, multiple rows could have the same CT-ID if multiple colleges were located there. To deal with this, we used a similar conversion process that we did on the raw census data. We grouped by CT-ID, taking the sum of the student populations and the average net price. This gave us two dataframes with rows representing unique tracts, one  with CT-ID and total student population, and the other with CT-ID and average net price. We then merged these two by CT-ID, thus completing our conversion."
   ]
  },
  {
   "cell_type": "code",
   "execution_count": 44,
   "metadata": {},
   "outputs": [],
   "source": [
    "#the average net price\n",
    "def avg_price(df):\n",
    "    count = df.shape[0]\n",
    "    return df[\"Net Price **\"].sum() / count\n",
    "\n",
    "#the sum of student populations for all colleges in the given CT-ID group\n",
    "def total_students(df):\n",
    "    return df['Student population'].sum()\n",
    "\n",
    "avg_tuition_prices_table = college_data.groupby('CT-ID-10').apply(avg_price)\n",
    "\n",
    "total_students_table = college_data.groupby('CT-ID-10').apply(total_students)\n",
    "\n",
    "avg_tuition_prices_per_tract = avg_tuition_prices_table.rename_axis('CT-ID-10').reset_index(name='avg_net_price')\n",
    "\n",
    "total_students_per_tract = total_students_table.rename_axis('CT-ID-10').reset_index(name='total_student_pop')"
   ]
  },
  {
   "cell_type": "code",
   "execution_count": 45,
   "metadata": {},
   "outputs": [
    {
     "data": {
      "text/html": [
       "<div>\n",
       "<style scoped>\n",
       "    .dataframe tbody tr th:only-of-type {\n",
       "        vertical-align: middle;\n",
       "    }\n",
       "\n",
       "    .dataframe tbody tr th {\n",
       "        vertical-align: top;\n",
       "    }\n",
       "\n",
       "    .dataframe thead th {\n",
       "        text-align: right;\n",
       "    }\n",
       "</style>\n",
       "<table border=\"1\" class=\"dataframe\">\n",
       "  <thead>\n",
       "    <tr style=\"text-align: right;\">\n",
       "      <th></th>\n",
       "      <th>CT-ID-10</th>\n",
       "      <th>avg_net_price</th>\n",
       "    </tr>\n",
       "  </thead>\n",
       "  <tbody>\n",
       "    <tr>\n",
       "      <th>0</th>\n",
       "      <td>25025010103</td>\n",
       "      <td>29479.00</td>\n",
       "    </tr>\n",
       "    <tr>\n",
       "      <th>1</th>\n",
       "      <td>25025010300</td>\n",
       "      <td>31271.75</td>\n",
       "    </tr>\n",
       "    <tr>\n",
       "      <th>2</th>\n",
       "      <td>25025010405</td>\n",
       "      <td>42281.00</td>\n",
       "    </tr>\n",
       "    <tr>\n",
       "      <th>3</th>\n",
       "      <td>25025010701</td>\n",
       "      <td>21846.50</td>\n",
       "    </tr>\n",
       "    <tr>\n",
       "      <th>4</th>\n",
       "      <td>25025010801</td>\n",
       "      <td>23981.00</td>\n",
       "    </tr>\n",
       "  </tbody>\n",
       "</table>\n",
       "</div>"
      ],
      "text/plain": [
       "      CT-ID-10  avg_net_price\n",
       "0  25025010103       29479.00\n",
       "1  25025010300       31271.75\n",
       "2  25025010405       42281.00\n",
       "3  25025010701       21846.50\n",
       "4  25025010801       23981.00"
      ]
     },
     "execution_count": 45,
     "metadata": {},
     "output_type": "execute_result"
    }
   ],
   "source": [
    "avg_tuition_prices_per_tract.head()"
   ]
  },
  {
   "cell_type": "code",
   "execution_count": 46,
   "metadata": {},
   "outputs": [
    {
     "data": {
      "text/html": [
       "<div>\n",
       "<style scoped>\n",
       "    .dataframe tbody tr th:only-of-type {\n",
       "        vertical-align: middle;\n",
       "    }\n",
       "\n",
       "    .dataframe tbody tr th {\n",
       "        vertical-align: top;\n",
       "    }\n",
       "\n",
       "    .dataframe thead th {\n",
       "        text-align: right;\n",
       "    }\n",
       "</style>\n",
       "<table border=\"1\" class=\"dataframe\">\n",
       "  <thead>\n",
       "    <tr style=\"text-align: right;\">\n",
       "      <th></th>\n",
       "      <th>CT-ID-10</th>\n",
       "      <th>total_student_pop</th>\n",
       "    </tr>\n",
       "  </thead>\n",
       "  <tbody>\n",
       "    <tr>\n",
       "      <th>0</th>\n",
       "      <td>25025010103</td>\n",
       "      <td>33720</td>\n",
       "    </tr>\n",
       "    <tr>\n",
       "      <th>1</th>\n",
       "      <td>25025010300</td>\n",
       "      <td>18218</td>\n",
       "    </tr>\n",
       "    <tr>\n",
       "      <th>2</th>\n",
       "      <td>25025010405</td>\n",
       "      <td>30049</td>\n",
       "    </tr>\n",
       "    <tr>\n",
       "      <th>3</th>\n",
       "      <td>25025010701</td>\n",
       "      <td>876</td>\n",
       "    </tr>\n",
       "    <tr>\n",
       "      <th>4</th>\n",
       "      <td>25025010801</td>\n",
       "      <td>1628</td>\n",
       "    </tr>\n",
       "  </tbody>\n",
       "</table>\n",
       "</div>"
      ],
      "text/plain": [
       "      CT-ID-10  total_student_pop\n",
       "0  25025010103              33720\n",
       "1  25025010300              18218\n",
       "2  25025010405              30049\n",
       "3  25025010701                876\n",
       "4  25025010801               1628"
      ]
     },
     "execution_count": 46,
     "metadata": {},
     "output_type": "execute_result"
    }
   ],
   "source": [
    "total_students_per_tract.head()"
   ]
  },
  {
   "cell_type": "markdown",
   "metadata": {},
   "source": [
    "We displayed our converted college dataframe, which was a success. "
   ]
  },
  {
   "cell_type": "code",
   "execution_count": 47,
   "metadata": {},
   "outputs": [
    {
     "data": {
      "text/html": [
       "<div>\n",
       "<style scoped>\n",
       "    .dataframe tbody tr th:only-of-type {\n",
       "        vertical-align: middle;\n",
       "    }\n",
       "\n",
       "    .dataframe tbody tr th {\n",
       "        vertical-align: top;\n",
       "    }\n",
       "\n",
       "    .dataframe thead th {\n",
       "        text-align: right;\n",
       "    }\n",
       "</style>\n",
       "<table border=\"1\" class=\"dataframe\">\n",
       "  <thead>\n",
       "    <tr style=\"text-align: right;\">\n",
       "      <th></th>\n",
       "      <th>CT-ID-10</th>\n",
       "      <th>avg_net_price</th>\n",
       "      <th>total_student_pop</th>\n",
       "    </tr>\n",
       "  </thead>\n",
       "  <tbody>\n",
       "    <tr>\n",
       "      <th>0</th>\n",
       "      <td>25025010103</td>\n",
       "      <td>29479.00</td>\n",
       "      <td>33720</td>\n",
       "    </tr>\n",
       "    <tr>\n",
       "      <th>1</th>\n",
       "      <td>25025010300</td>\n",
       "      <td>31271.75</td>\n",
       "      <td>18218</td>\n",
       "    </tr>\n",
       "    <tr>\n",
       "      <th>2</th>\n",
       "      <td>25025010405</td>\n",
       "      <td>42281.00</td>\n",
       "      <td>30049</td>\n",
       "    </tr>\n",
       "    <tr>\n",
       "      <th>3</th>\n",
       "      <td>25025010701</td>\n",
       "      <td>21846.50</td>\n",
       "      <td>876</td>\n",
       "    </tr>\n",
       "    <tr>\n",
       "      <th>4</th>\n",
       "      <td>25025010801</td>\n",
       "      <td>23981.00</td>\n",
       "      <td>1628</td>\n",
       "    </tr>\n",
       "  </tbody>\n",
       "</table>\n",
       "</div>"
      ],
      "text/plain": [
       "      CT-ID-10  avg_net_price  total_student_pop\n",
       "0  25025010103       29479.00              33720\n",
       "1  25025010300       31271.75              18218\n",
       "2  25025010405       42281.00              30049\n",
       "3  25025010701       21846.50                876\n",
       "4  25025010801       23981.00               1628"
      ]
     },
     "execution_count": 47,
     "metadata": {},
     "output_type": "execute_result"
    }
   ],
   "source": [
    "relevant_college_data = avg_tuition_prices_per_tract.merge(total_students_per_tract, how = 'left', on = 'CT-ID-10')\n",
    "\n",
    "relevant_college_data.head()"
   ]
  },
  {
   "cell_type": "markdown",
   "metadata": {},
   "source": [
    "At this point, we needed to merge the converted census dataframes with the converted college dataframe by CT-ID. However, we could not do this just yet, because the census dataframes had far more rows (more unique CT-ID's) than the college dataframe. To handle this, we filtered out all rows from the census dataframes that contained CT-ID's not represented in the college dataframe."
   ]
  },
  {
   "cell_type": "code",
   "execution_count": 48,
   "metadata": {},
   "outputs": [
    {
     "name": "stdout",
     "output_type": "stream",
     "text": [
      "The Boston census data now contains only 14 relevant tracts\n"
     ]
    }
   ],
   "source": [
    "initData()\n",
    "#all CT-ID's listed in college data\n",
    "college_tracts = relevant_college_data['CT-ID-10'].tolist()\n",
    "\n",
    "\n",
    "#returns a filtered version of the given census data\n",
    "#that contains only CT-ID's listed in college data \n",
    "def filterCensus(df):\n",
    "    for n in range(len(df)):\n",
    "        test = df['CT-ID-10'][n]\n",
    "        if not test in college_tracts:\n",
    "            df = df.drop([n])\n",
    "    return df\n",
    "\n",
    "boston_data_2014 = filterCensus(boston_data_2014)\n",
    "\n",
    "boston_data_2019 = filterCensus(boston_data_2019)\n",
    "\n",
    "print(\"The Boston census data now contains only \" + str(boston_data_2014.shape[0]) + \" relevant tracts\")"
   ]
  },
  {
   "cell_type": "markdown",
   "metadata": {},
   "source": [
    "Now that the CT-ID's matched, we were able to merge the 2010-2014 census dataframe and the 2014-2019 census dataframe with the college dataframe."
   ]
  },
  {
   "cell_type": "code",
   "execution_count": 49,
   "metadata": {},
   "outputs": [],
   "source": [
    "#merges the given processed census data with the relevant college data\n",
    "#over the CT-ID column\n",
    "initData()\n",
    "\n",
    "def finalize(df):\n",
    "    result = relevant_college_data.merge(df, how = 'left', on = 'CT-ID-10')\n",
    "    return result\n",
    "\n",
    "full_df_2014 = finalize(boston_data_2014)\n",
    "\n",
    "full_df_2019 = finalize(boston_data_2019)\n"
   ]
  },
  {
   "cell_type": "code",
   "execution_count": 50,
   "metadata": {},
   "outputs": [
    {
     "data": {
      "text/html": [
       "<div>\n",
       "<style scoped>\n",
       "    .dataframe tbody tr th:only-of-type {\n",
       "        vertical-align: middle;\n",
       "    }\n",
       "\n",
       "    .dataframe tbody tr th {\n",
       "        vertical-align: top;\n",
       "    }\n",
       "\n",
       "    .dataframe thead th {\n",
       "        text-align: right;\n",
       "    }\n",
       "</style>\n",
       "<table border=\"1\" class=\"dataframe\">\n",
       "  <thead>\n",
       "    <tr style=\"text-align: right;\">\n",
       "      <th></th>\n",
       "      <th>CT-ID-10</th>\n",
       "      <th>avg_net_price</th>\n",
       "      <th>total_student_pop</th>\n",
       "      <th>TotalPop</th>\n",
       "      <th>Median_Gross_Rent_2014</th>\n",
       "    </tr>\n",
       "  </thead>\n",
       "  <tbody>\n",
       "    <tr>\n",
       "      <th>0</th>\n",
       "      <td>25025010103</td>\n",
       "      <td>29479.00</td>\n",
       "      <td>33720</td>\n",
       "      <td>3704</td>\n",
       "      <td>1060.298596</td>\n",
       "    </tr>\n",
       "    <tr>\n",
       "      <th>1</th>\n",
       "      <td>25025010300</td>\n",
       "      <td>31271.75</td>\n",
       "      <td>18218</td>\n",
       "      <td>5202</td>\n",
       "      <td>1404.483660</td>\n",
       "    </tr>\n",
       "    <tr>\n",
       "      <th>2</th>\n",
       "      <td>25025010405</td>\n",
       "      <td>42281.00</td>\n",
       "      <td>30049</td>\n",
       "      <td>5814</td>\n",
       "      <td>549.406261</td>\n",
       "    </tr>\n",
       "    <tr>\n",
       "      <th>3</th>\n",
       "      <td>25025010701</td>\n",
       "      <td>21846.50</td>\n",
       "      <td>876</td>\n",
       "      <td>2954</td>\n",
       "      <td>1881.977319</td>\n",
       "    </tr>\n",
       "    <tr>\n",
       "      <th>4</th>\n",
       "      <td>25025010801</td>\n",
       "      <td>23981.00</td>\n",
       "      <td>1628</td>\n",
       "      <td>3259</td>\n",
       "      <td>1725.560295</td>\n",
       "    </tr>\n",
       "  </tbody>\n",
       "</table>\n",
       "</div>"
      ],
      "text/plain": [
       "      CT-ID-10  avg_net_price  total_student_pop  TotalPop  \\\n",
       "0  25025010103       29479.00              33720      3704   \n",
       "1  25025010300       31271.75              18218      5202   \n",
       "2  25025010405       42281.00              30049      5814   \n",
       "3  25025010701       21846.50                876      2954   \n",
       "4  25025010801       23981.00               1628      3259   \n",
       "\n",
       "   Median_Gross_Rent_2014  \n",
       "0             1060.298596  \n",
       "1             1404.483660  \n",
       "2              549.406261  \n",
       "3             1881.977319  \n",
       "4             1725.560295  "
      ]
     },
     "execution_count": 50,
     "metadata": {},
     "output_type": "execute_result"
    }
   ],
   "source": [
    "full_df_2014.rename(columns={\"Median_Gross_Rent\": \"Median_Gross_Rent_2014\"}, inplace=True)\n",
    "full_df_2014.head()\n"
   ]
  },
  {
   "cell_type": "code",
   "execution_count": 51,
   "metadata": {},
   "outputs": [
    {
     "data": {
      "text/html": [
       "<div>\n",
       "<style scoped>\n",
       "    .dataframe tbody tr th:only-of-type {\n",
       "        vertical-align: middle;\n",
       "    }\n",
       "\n",
       "    .dataframe tbody tr th {\n",
       "        vertical-align: top;\n",
       "    }\n",
       "\n",
       "    .dataframe thead th {\n",
       "        text-align: right;\n",
       "    }\n",
       "</style>\n",
       "<table border=\"1\" class=\"dataframe\">\n",
       "  <thead>\n",
       "    <tr style=\"text-align: right;\">\n",
       "      <th></th>\n",
       "      <th>CT-ID-10</th>\n",
       "      <th>avg_net_price</th>\n",
       "      <th>total_student_pop</th>\n",
       "      <th>TotalPop</th>\n",
       "      <th>Median_Gross_Rent_2019</th>\n",
       "    </tr>\n",
       "  </thead>\n",
       "  <tbody>\n",
       "    <tr>\n",
       "      <th>0</th>\n",
       "      <td>25025010103</td>\n",
       "      <td>29479.00</td>\n",
       "      <td>33720</td>\n",
       "      <td>3686</td>\n",
       "      <td>1717.544493</td>\n",
       "    </tr>\n",
       "    <tr>\n",
       "      <th>1</th>\n",
       "      <td>25025010300</td>\n",
       "      <td>31271.75</td>\n",
       "      <td>18218</td>\n",
       "      <td>5351</td>\n",
       "      <td>1404.026163</td>\n",
       "    </tr>\n",
       "    <tr>\n",
       "      <th>2</th>\n",
       "      <td>25025010405</td>\n",
       "      <td>42281.00</td>\n",
       "      <td>30049</td>\n",
       "      <td>6008</td>\n",
       "      <td>722.916112</td>\n",
       "    </tr>\n",
       "    <tr>\n",
       "      <th>3</th>\n",
       "      <td>25025010701</td>\n",
       "      <td>21846.50</td>\n",
       "      <td>876</td>\n",
       "      <td>2383</td>\n",
       "      <td>2059.597566</td>\n",
       "    </tr>\n",
       "    <tr>\n",
       "      <th>4</th>\n",
       "      <td>25025010801</td>\n",
       "      <td>23981.00</td>\n",
       "      <td>1628</td>\n",
       "      <td>3002</td>\n",
       "      <td>2176.054297</td>\n",
       "    </tr>\n",
       "  </tbody>\n",
       "</table>\n",
       "</div>"
      ],
      "text/plain": [
       "      CT-ID-10  avg_net_price  total_student_pop  TotalPop  \\\n",
       "0  25025010103       29479.00              33720      3686   \n",
       "1  25025010300       31271.75              18218      5351   \n",
       "2  25025010405       42281.00              30049      6008   \n",
       "3  25025010701       21846.50                876      2383   \n",
       "4  25025010801       23981.00               1628      3002   \n",
       "\n",
       "   Median_Gross_Rent_2019  \n",
       "0             1717.544493  \n",
       "1             1404.026163  \n",
       "2              722.916112  \n",
       "3             2059.597566  \n",
       "4             2176.054297  "
      ]
     },
     "execution_count": 51,
     "metadata": {},
     "output_type": "execute_result"
    }
   ],
   "source": [
    "full_df_2019.rename(columns={\"Median_Gross_Rent\": \"Median_Gross_Rent_2019\"}, inplace=True)\n",
    "full_df_2019.head()"
   ]
  },
  {
   "cell_type": "markdown",
   "metadata": {},
   "source": [
    "Our last step was to create the column for percent change in rent. To do this, we took a slice of the 2014-2019 census dataframe where we only kept the columns CT-ID and Median Gross Rent. We then merged this slice with the pre-existing merge between the 2010-2014 census dataframe and the college dataframe. To calculate percent change in rent, we used the formula (final - initial) / initial, with initial being the median gross rent for 2010-2014 and final being the median gross rent for 2014-2019. "
   ]
  },
  {
   "cell_type": "code",
   "execution_count": 56,
   "metadata": {},
   "outputs": [
    {
     "data": {
      "text/html": [
       "<div>\n",
       "<style scoped>\n",
       "    .dataframe tbody tr th:only-of-type {\n",
       "        vertical-align: middle;\n",
       "    }\n",
       "\n",
       "    .dataframe tbody tr th {\n",
       "        vertical-align: top;\n",
       "    }\n",
       "\n",
       "    .dataframe thead th {\n",
       "        text-align: right;\n",
       "    }\n",
       "</style>\n",
       "<table border=\"1\" class=\"dataframe\">\n",
       "  <thead>\n",
       "    <tr style=\"text-align: right;\">\n",
       "      <th></th>\n",
       "      <th>CT-ID-10</th>\n",
       "      <th>avg_net_price</th>\n",
       "      <th>total_student_pop</th>\n",
       "      <th>TotalPop</th>\n",
       "      <th>Median_Gross_Rent_2014</th>\n",
       "      <th>Median_Gross_Rent_2019</th>\n",
       "      <th>percent_change_in_rent</th>\n",
       "    </tr>\n",
       "  </thead>\n",
       "  <tbody>\n",
       "    <tr>\n",
       "      <th>0</th>\n",
       "      <td>25025010103</td>\n",
       "      <td>29479.00</td>\n",
       "      <td>33720</td>\n",
       "      <td>3704</td>\n",
       "      <td>1060.298596</td>\n",
       "      <td>1717.544493</td>\n",
       "      <td>0.619869</td>\n",
       "    </tr>\n",
       "    <tr>\n",
       "      <th>1</th>\n",
       "      <td>25025010300</td>\n",
       "      <td>31271.75</td>\n",
       "      <td>18218</td>\n",
       "      <td>5202</td>\n",
       "      <td>1404.483660</td>\n",
       "      <td>1404.026163</td>\n",
       "      <td>-0.000326</td>\n",
       "    </tr>\n",
       "    <tr>\n",
       "      <th>2</th>\n",
       "      <td>25025010405</td>\n",
       "      <td>42281.00</td>\n",
       "      <td>30049</td>\n",
       "      <td>5814</td>\n",
       "      <td>549.406261</td>\n",
       "      <td>722.916112</td>\n",
       "      <td>0.315813</td>\n",
       "    </tr>\n",
       "    <tr>\n",
       "      <th>3</th>\n",
       "      <td>25025010701</td>\n",
       "      <td>21846.50</td>\n",
       "      <td>876</td>\n",
       "      <td>2954</td>\n",
       "      <td>1881.977319</td>\n",
       "      <td>2059.597566</td>\n",
       "      <td>0.094380</td>\n",
       "    </tr>\n",
       "    <tr>\n",
       "      <th>4</th>\n",
       "      <td>25025010801</td>\n",
       "      <td>23981.00</td>\n",
       "      <td>1628</td>\n",
       "      <td>3259</td>\n",
       "      <td>1725.560295</td>\n",
       "      <td>2176.054297</td>\n",
       "      <td>0.261071</td>\n",
       "    </tr>\n",
       "  </tbody>\n",
       "</table>\n",
       "</div>"
      ],
      "text/plain": [
       "      CT-ID-10  avg_net_price  total_student_pop  TotalPop  \\\n",
       "0  25025010103       29479.00              33720      3704   \n",
       "1  25025010300       31271.75              18218      5202   \n",
       "2  25025010405       42281.00              30049      5814   \n",
       "3  25025010701       21846.50                876      2954   \n",
       "4  25025010801       23981.00               1628      3259   \n",
       "\n",
       "   Median_Gross_Rent_2014  Median_Gross_Rent_2019  percent_change_in_rent  \n",
       "0             1060.298596             1717.544493                0.619869  \n",
       "1             1404.483660             1404.026163               -0.000326  \n",
       "2              549.406261              722.916112                0.315813  \n",
       "3             1881.977319             2059.597566                0.094380  \n",
       "4             1725.560295             2176.054297                0.261071  "
      ]
     },
     "execution_count": 56,
     "metadata": {},
     "output_type": "execute_result"
    }
   ],
   "source": [
    "df_2019_rent = pd.DataFrame(full_df_2019, columns = ['CT-ID-10', 'Median_Gross_Rent_2019']) \n",
    "df_2014_19 = full_df_2014.merge(df_2019_rent, how = 'left', on = 'CT-ID-10')\n",
    "df_2014_19['percent_change_in_rent'] = (df_2014_19['Median_Gross_Rent_2019'] - df_2014_19['Median_Gross_Rent_2014']) / df_2014_19['Median_Gross_Rent_2014']\n",
    "df_2014_19.head()\n"
   ]
  },
  {
   "cell_type": "markdown",
   "metadata": {},
   "source": [
    "Now that we had all the statistics we wanted in one dataframe, we could create graphs that would answer our initial research question. Our first graph was average net price vs percent change in rent from 2014-2019. Again, each data point represents a unique tract."
   ]
  },
  {
   "cell_type": "code",
   "execution_count": 61,
   "metadata": {},
   "outputs": [
    {
     "data": {
      "text/plain": [
       "Text(0.5, 1.0, 'Relationship between average net price and percent change in rent from 2014-2019 per tract')"
      ]
     },
     "execution_count": 61,
     "metadata": {},
     "output_type": "execute_result"
    },
    {
     "data": {
      "image/png": "[encoded data removed]",
      "text/plain": [
       "<Figure size 432x288 with 1 Axes>"
      ]
     },
     "metadata": {
      "needs_background": "light"
     },
     "output_type": "display_data"
    }
   ],
   "source": [
    "import seaborn as sns\n",
    "import matplotlib.pyplot as plt\n",
    "sns.regplot(x='avg_net_price', y='percent_change_in_rent', scatter_kws={\"color\": \"green\", 'alpha': 0.7}, line_kws={\"color\": \"blue\"}, data=df_2014_19)\n",
    "plt.title('Relationship between average net price and percent change in rent from 2014-2019', fontsize = 13)"
   ]
  },
  {
   "cell_type": "markdown",
   "metadata": {},
   "source": [
    "Our second graph was average net price vs percent change in rent from 2014-2019"
   ]
  },
  {
   "cell_type": "code",
   "execution_count": 62,
   "metadata": {},
   "outputs": [
    {
     "data": {
      "text/plain": [
       "Text(0.5, 1.0, 'Relationship between total student population and percent change in rent from 2014-2019')"
      ]
     },
     "execution_count": 62,
     "metadata": {},
     "output_type": "execute_result"
    },
    {
     "data": {
      "image/png": "[encoded data removed]",
      "text/plain": [
       "<Figure size 432x288 with 1 Axes>"
      ]
     },
     "metadata": {
      "needs_background": "light"
     },
     "output_type": "display_data"
    }
   ],
   "source": [
    "sns.regplot(x='total_student_pop', y='percent_change_in_rent', scatter_kws={\"color\": \"green\", 'alpha': 0.7}, line_kws={\"color\": \"blue\"}, data=df_2014_19)\n",
    "plt.title('Relationship between total student population and percent change in rent from 2014-2019', fontsize = 13)"
   ]
  },
  {
   "cell_type": "code",
   "execution_count": 29,
   "metadata": {},
   "outputs": [
    {
     "data": {
      "text/plain": [
       "Text(0.5, 1.0, 'Relationship Between Total Population and change in rent')"
      ]
     },
     "execution_count": 29,
     "metadata": {},
     "output_type": "execute_result"
    },
    {
     "data": {
      "image/png": "[encoded data removed]",
      "text/plain": [
       "<Figure size 432x288 with 1 Axes>"
      ]
     },
     "metadata": {
      "needs_background": "light"
     },
     "output_type": "display_data"
    }
   ],
   "source": [
    "sns.regplot(x='TotalPop', y='change_in_rent', scatter_kws={\"color\": \"green\", 'alpha': 0.7}, line_kws={\"color\": \"blue\"}, data=df_2014_19)\n",
    "plt.title('Relationship Between Total Population and change in rent', fontsize = 13)"
   ]
  },
  {
   "cell_type": "markdown",
   "metadata": {},
   "source": [
    "To measure exact correlations, we created a correlation matrix as shown below. "
   ]
  },
  {
   "cell_type": "code",
   "execution_count": 30,
   "metadata": {},
   "outputs": [
    {
     "data": {
      "text/html": [
       "<div>\n",
       "<style scoped>\n",
       "    .dataframe tbody tr th:only-of-type {\n",
       "        vertical-align: middle;\n",
       "    }\n",
       "\n",
       "    .dataframe tbody tr th {\n",
       "        vertical-align: top;\n",
       "    }\n",
       "\n",
       "    .dataframe thead th {\n",
       "        text-align: right;\n",
       "    }\n",
       "</style>\n",
       "<table border=\"1\" class=\"dataframe\">\n",
       "  <thead>\n",
       "    <tr style=\"text-align: right;\">\n",
       "      <th></th>\n",
       "      <th>CT-ID-10</th>\n",
       "      <th>avg_net_price</th>\n",
       "      <th>total_student_pop</th>\n",
       "      <th>TotalPop</th>\n",
       "      <th>Median_Gross_Rent_2015</th>\n",
       "    </tr>\n",
       "  </thead>\n",
       "  <tbody>\n",
       "    <tr>\n",
       "      <th>CT-ID-10</th>\n",
       "      <td>1.000000</td>\n",
       "      <td>-0.319433</td>\n",
       "      <td>-0.444361</td>\n",
       "      <td>0.325095</td>\n",
       "      <td>-0.351979</td>\n",
       "    </tr>\n",
       "    <tr>\n",
       "      <th>avg_net_price</th>\n",
       "      <td>-0.319433</td>\n",
       "      <td>1.000000</td>\n",
       "      <td>0.296353</td>\n",
       "      <td>0.390140</td>\n",
       "      <td>-0.555468</td>\n",
       "    </tr>\n",
       "    <tr>\n",
       "      <th>total_student_pop</th>\n",
       "      <td>-0.444361</td>\n",
       "      <td>0.296353</td>\n",
       "      <td>1.000000</td>\n",
       "      <td>0.206624</td>\n",
       "      <td>-0.256332</td>\n",
       "    </tr>\n",
       "    <tr>\n",
       "      <th>TotalPop</th>\n",
       "      <td>0.325095</td>\n",
       "      <td>0.390140</td>\n",
       "      <td>0.206624</td>\n",
       "      <td>1.000000</td>\n",
       "      <td>-0.549469</td>\n",
       "    </tr>\n",
       "    <tr>\n",
       "      <th>Median_Gross_Rent_2015</th>\n",
       "      <td>-0.351979</td>\n",
       "      <td>-0.555468</td>\n",
       "      <td>-0.256332</td>\n",
       "      <td>-0.549469</td>\n",
       "      <td>1.000000</td>\n",
       "    </tr>\n",
       "  </tbody>\n",
       "</table>\n",
       "</div>"
      ],
      "text/plain": [
       "                        CT-ID-10  avg_net_price  total_student_pop  TotalPop  \\\n",
       "CT-ID-10                1.000000      -0.319433          -0.444361  0.325095   \n",
       "avg_net_price          -0.319433       1.000000           0.296353  0.390140   \n",
       "total_student_pop      -0.444361       0.296353           1.000000  0.206624   \n",
       "TotalPop                0.325095       0.390140           0.206624  1.000000   \n",
       "Median_Gross_Rent_2015 -0.351979      -0.555468          -0.256332 -0.549469   \n",
       "\n",
       "                        Median_Gross_Rent_2015  \n",
       "CT-ID-10                             -0.351979  \n",
       "avg_net_price                        -0.555468  \n",
       "total_student_pop                    -0.256332  \n",
       "TotalPop                             -0.549469  \n",
       "Median_Gross_Rent_2015                1.000000  "
      ]
     },
     "execution_count": 30,
     "metadata": {},
     "output_type": "execute_result"
    }
   ],
   "source": [
    "full_df_2014.corr()"
   ]
  }
 ],
 "metadata": {
  "kernelspec": {
   "display_name": "Python 3",
   "language": "python",
   "name": "python3"
  },
  "language_info": {
   "codemirror_mode": {
    "name": "ipython",
    "version": 3
   },
   "file_extension": ".py",
   "mimetype": "text/x-python",
   "name": "python",
   "nbconvert_exporter": "python",
   "pygments_lexer": "ipython3",
   "version": "3.8.5"
  }
 },
 "nbformat": 4,
 "nbformat_minor": 4
}
